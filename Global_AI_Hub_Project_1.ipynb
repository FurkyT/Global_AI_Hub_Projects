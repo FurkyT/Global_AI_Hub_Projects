{
  "nbformat": 4,
  "nbformat_minor": 0,
  "metadata": {
    "colab": {
      "name": "Global_AI_Hub_Project_1.ipynb",
      "provenance": [],
      "authorship_tag": "ABX9TyPGFtiwKhKIRAikqdzEow/O",
      "include_colab_link": true
    },
    "kernelspec": {
      "name": "python3",
      "display_name": "Python 3"
    },
    "language_info": {
      "name": "python"
    }
  },
  "cells": [
    {
      "cell_type": "markdown",
      "metadata": {
        "id": "view-in-github",
        "colab_type": "text"
      },
      "source": [
        "<a href=\"https://colab.research.google.com/github/FurkyT/Global_AI_Hub_Projects/blob/main/Global_AI_Hub_Project_1.ipynb\" target=\"_parent\"><img src=\"https://colab.research.google.com/assets/colab-badge.svg\" alt=\"Open In Colab\"/></a>"
      ]
    },
    {
      "cell_type": "markdown",
      "source": [
        "Points List \n",
        "\n",
        "*   A : 100 - 85\n",
        "*   B : 85  - 70\n",
        "*   C : 70  - 60\n",
        "*   D : 60  - 45\n",
        "*   F : 45  - 0"
      ],
      "metadata": {
        "id": "ji9FbTtqBMa5"
      }
    },
    {
      "cell_type": "code",
      "source": [
        "import pandas as pd\n",
        "import json"
      ],
      "metadata": {
        "id": "VmjeUUDKD4fC"
      },
      "execution_count": 31,
      "outputs": []
    },
    {
      "cell_type": "code",
      "execution_count": 28,
      "metadata": {
        "colab": {
          "base_uri": "https://localhost:8080/"
        },
        "id": "K733994-_dMR",
        "outputId": "22090b24-2d65-4af2-ed91-6da50dcb9d0f"
      },
      "outputs": [
        {
          "name": "stdout",
          "output_type": "stream",
          "text": [
            "Welcome the management system please enter the following information\n",
            "Name: aaa\n",
            "Surname: bbb\n",
            "Student ID: 798798\n",
            "Exam Points: 75\n",
            "Are you going to continue to new student:Yes\n",
            "Name: ccc\n",
            "Surname: ddd\n",
            "Student ID: 54654\n",
            "Exam Points: 40\n",
            "Are you going to continue to new student:No\n"
          ]
        }
      ],
      "source": [
        "# MATH CLASS PASS OR FAIL DATA\n",
        "\n",
        "grade = dict()\n",
        "print('Welcome the management system please enter the following information')\n",
        "i = 0\n",
        "name =[]\n",
        "surname =[]\n",
        "id =[]\n",
        "point =[]\n",
        "grd = []\n",
        "stt = []   \n",
        "while True:\n",
        "  \n",
        "  name.append(input('Name: ')) \n",
        "  surname.append(input('Surname: '))  \n",
        "  id.append(input('Student ID: '))\n",
        "  point.append(int(input('Exam Points: ')))\n",
        "  \n",
        "  grade['Name'] = name\n",
        "  grade['Surname'] = surname\n",
        "  grade['Student_ID'] = id\n",
        "  grade['Points'] = point\n",
        "  \n",
        "  if point[i] <=100 and point[i] > 85:\n",
        "     grd.append('A')\n",
        "     stt.append('Passed')\n",
        "  elif point[i] <=85 and point[i] > 70:\n",
        "     grd.append('B')\n",
        "     stt.append('Passed')\n",
        "  elif point[i] <=70 and point[i] > 60:\n",
        "     grd.append('C')\n",
        "     stt.append('Passed')\n",
        "  elif point[i] <=60 and point[i] > 45:\n",
        "     grd.append('D')\n",
        "     stt.append('Passed')\n",
        "  else:\n",
        "     grd.append('F')\n",
        "     stt.append('Failed')\n",
        "     \n",
        "  grade['Grade'] = grd\n",
        "  grade['Status'] = stt   \n",
        "  \n",
        "  status = input('Are you going to continue to new student:')\n",
        "\n",
        "  if status == 'Yes':\n",
        "    i += 1\n",
        "    continue\n",
        "  elif status == 'No':\n",
        "    break              \n",
        "    "
      ]
    },
    {
      "cell_type": "code",
      "source": [
        "management_df = pd.DataFrame.from_dict(grade)\n",
        "management_df"
      ],
      "metadata": {
        "colab": {
          "base_uri": "https://localhost:8080/",
          "height": 112
        },
        "id": "Zoh823CPDq8_",
        "outputId": "755ac9d3-5450-4fa6-a2ac-752628962cb2"
      },
      "execution_count": 39,
      "outputs": [
        {
          "output_type": "execute_result",
          "data": {
            "text/plain": [
              "  Name Surname Student_ID  Points Grade  Status\n",
              "0  aaa     bbb     798798      75     B  Passed\n",
              "1  ccc     ddd      54654      40     F  Failed"
            ],
            "text/html": [
              "\n",
              "  <div id=\"df-6433396a-1462-4cfd-b2e8-ec653a2009b3\">\n",
              "    <div class=\"colab-df-container\">\n",
              "      <div>\n",
              "<style scoped>\n",
              "    .dataframe tbody tr th:only-of-type {\n",
              "        vertical-align: middle;\n",
              "    }\n",
              "\n",
              "    .dataframe tbody tr th {\n",
              "        vertical-align: top;\n",
              "    }\n",
              "\n",
              "    .dataframe thead th {\n",
              "        text-align: right;\n",
              "    }\n",
              "</style>\n",
              "<table border=\"1\" class=\"dataframe\">\n",
              "  <thead>\n",
              "    <tr style=\"text-align: right;\">\n",
              "      <th></th>\n",
              "      <th>Name</th>\n",
              "      <th>Surname</th>\n",
              "      <th>Student_ID</th>\n",
              "      <th>Points</th>\n",
              "      <th>Grade</th>\n",
              "      <th>Status</th>\n",
              "    </tr>\n",
              "  </thead>\n",
              "  <tbody>\n",
              "    <tr>\n",
              "      <th>0</th>\n",
              "      <td>aaa</td>\n",
              "      <td>bbb</td>\n",
              "      <td>798798</td>\n",
              "      <td>75</td>\n",
              "      <td>B</td>\n",
              "      <td>Passed</td>\n",
              "    </tr>\n",
              "    <tr>\n",
              "      <th>1</th>\n",
              "      <td>ccc</td>\n",
              "      <td>ddd</td>\n",
              "      <td>54654</td>\n",
              "      <td>40</td>\n",
              "      <td>F</td>\n",
              "      <td>Failed</td>\n",
              "    </tr>\n",
              "  </tbody>\n",
              "</table>\n",
              "</div>\n",
              "      <button class=\"colab-df-convert\" onclick=\"convertToInteractive('df-6433396a-1462-4cfd-b2e8-ec653a2009b3')\"\n",
              "              title=\"Convert this dataframe to an interactive table.\"\n",
              "              style=\"display:none;\">\n",
              "        \n",
              "  <svg xmlns=\"http://www.w3.org/2000/svg\" height=\"24px\"viewBox=\"0 0 24 24\"\n",
              "       width=\"24px\">\n",
              "    <path d=\"M0 0h24v24H0V0z\" fill=\"none\"/>\n",
              "    <path d=\"M18.56 5.44l.94 2.06.94-2.06 2.06-.94-2.06-.94-.94-2.06-.94 2.06-2.06.94zm-11 1L8.5 8.5l.94-2.06 2.06-.94-2.06-.94L8.5 2.5l-.94 2.06-2.06.94zm10 10l.94 2.06.94-2.06 2.06-.94-2.06-.94-.94-2.06-.94 2.06-2.06.94z\"/><path d=\"M17.41 7.96l-1.37-1.37c-.4-.4-.92-.59-1.43-.59-.52 0-1.04.2-1.43.59L10.3 9.45l-7.72 7.72c-.78.78-.78 2.05 0 2.83L4 21.41c.39.39.9.59 1.41.59.51 0 1.02-.2 1.41-.59l7.78-7.78 2.81-2.81c.8-.78.8-2.07 0-2.86zM5.41 20L4 18.59l7.72-7.72 1.47 1.35L5.41 20z\"/>\n",
              "  </svg>\n",
              "      </button>\n",
              "      \n",
              "  <style>\n",
              "    .colab-df-container {\n",
              "      display:flex;\n",
              "      flex-wrap:wrap;\n",
              "      gap: 12px;\n",
              "    }\n",
              "\n",
              "    .colab-df-convert {\n",
              "      background-color: #E8F0FE;\n",
              "      border: none;\n",
              "      border-radius: 50%;\n",
              "      cursor: pointer;\n",
              "      display: none;\n",
              "      fill: #1967D2;\n",
              "      height: 32px;\n",
              "      padding: 0 0 0 0;\n",
              "      width: 32px;\n",
              "    }\n",
              "\n",
              "    .colab-df-convert:hover {\n",
              "      background-color: #E2EBFA;\n",
              "      box-shadow: 0px 1px 2px rgba(60, 64, 67, 0.3), 0px 1px 3px 1px rgba(60, 64, 67, 0.15);\n",
              "      fill: #174EA6;\n",
              "    }\n",
              "\n",
              "    [theme=dark] .colab-df-convert {\n",
              "      background-color: #3B4455;\n",
              "      fill: #D2E3FC;\n",
              "    }\n",
              "\n",
              "    [theme=dark] .colab-df-convert:hover {\n",
              "      background-color: #434B5C;\n",
              "      box-shadow: 0px 1px 3px 1px rgba(0, 0, 0, 0.15);\n",
              "      filter: drop-shadow(0px 1px 2px rgba(0, 0, 0, 0.3));\n",
              "      fill: #FFFFFF;\n",
              "    }\n",
              "  </style>\n",
              "\n",
              "      <script>\n",
              "        const buttonEl =\n",
              "          document.querySelector('#df-6433396a-1462-4cfd-b2e8-ec653a2009b3 button.colab-df-convert');\n",
              "        buttonEl.style.display =\n",
              "          google.colab.kernel.accessAllowed ? 'block' : 'none';\n",
              "\n",
              "        async function convertToInteractive(key) {\n",
              "          const element = document.querySelector('#df-6433396a-1462-4cfd-b2e8-ec653a2009b3');\n",
              "          const dataTable =\n",
              "            await google.colab.kernel.invokeFunction('convertToInteractive',\n",
              "                                                     [key], {});\n",
              "          if (!dataTable) return;\n",
              "\n",
              "          const docLinkHtml = 'Like what you see? Visit the ' +\n",
              "            '<a target=\"_blank\" href=https://colab.research.google.com/notebooks/data_table.ipynb>data table notebook</a>'\n",
              "            + ' to learn more about interactive tables.';\n",
              "          element.innerHTML = '';\n",
              "          dataTable['output_type'] = 'display_data';\n",
              "          await google.colab.output.renderOutput(dataTable, element);\n",
              "          const docLink = document.createElement('div');\n",
              "          docLink.innerHTML = docLinkHtml;\n",
              "          element.appendChild(docLink);\n",
              "        }\n",
              "      </script>\n",
              "    </div>\n",
              "  </div>\n",
              "  "
            ]
          },
          "metadata": {},
          "execution_count": 39
        }
      ]
    },
    {
      "cell_type": "code",
      "source": [
        "management_df.to_excel('management.xlsx')"
      ],
      "metadata": {
        "id": "imqbzkDHIBT-"
      },
      "execution_count": 41,
      "outputs": []
    }
  ]
}