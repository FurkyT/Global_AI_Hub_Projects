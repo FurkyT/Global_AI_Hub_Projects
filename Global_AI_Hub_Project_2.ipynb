{
  "nbformat": 4,
  "nbformat_minor": 0,
  "metadata": {
    "colab": {
      "name": "Global_AI_Hub_Project_2.ipynb",
      "provenance": [],
      "collapsed_sections": [],
      "authorship_tag": "ABX9TyMjVuiOm8V7X8KICGknCJzb",
      "include_colab_link": true
    },
    "kernelspec": {
      "name": "python3",
      "display_name": "Python 3"
    },
    "language_info": {
      "name": "python"
    }
  },
  "cells": [
    {
      "cell_type": "markdown",
      "metadata": {
        "id": "view-in-github",
        "colab_type": "text"
      },
      "source": [
        "<a href=\"https://colab.research.google.com/github/FurkyT/Global_AI_Hub_Projects/blob/main/Global_AI_Hub_Project_2.ipynb\" target=\"_parent\"><img src=\"https://colab.research.google.com/assets/colab-badge.svg\" alt=\"Open In Colab\"/></a>"
      ]
    },
    {
      "cell_type": "markdown",
      "source": [
        "## DATASET DOWNLOAD"
      ],
      "metadata": {
        "id": "wu6DIeUi_32A"
      }
    },
    {
      "cell_type": "code",
      "execution_count": null,
      "metadata": {
        "id": "lYT9SgHa_jF8",
        "colab": {
          "resources": {
            "http://localhost:8080/nbextensions/google.colab/files.js": {
              "data": "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",
              "ok": true,
              "headers": [
                [
                  "content-type",
                  "application/javascript"
                ]
              ],
              "status": 200,
              "status_text": ""
            }
          },
          "base_uri": "https://localhost:8080/",
          "height": 157
        },
        "outputId": "75d2829e-0f5f-43cc-e60e-b29ec0dd7a6d"
      },
      "outputs": [
        {
          "output_type": "display_data",
          "data": {
            "text/plain": [
              "<IPython.core.display.HTML object>"
            ],
            "text/html": [
              "\n",
              "     <input type=\"file\" id=\"files-c01ee5aa-370d-41d6-99a6-eb3634a42c53\" name=\"files[]\" multiple disabled\n",
              "        style=\"border:none\" />\n",
              "     <output id=\"result-c01ee5aa-370d-41d6-99a6-eb3634a42c53\">\n",
              "      Upload widget is only available when the cell has been executed in the\n",
              "      current browser session. Please rerun this cell to enable.\n",
              "      </output>\n",
              "      <script src=\"/nbextensions/google.colab/files.js\"></script> "
            ]
          },
          "metadata": {}
        },
        {
          "output_type": "stream",
          "name": "stdout",
          "text": [
            "Saving kaggle.json to kaggle.json\n",
            "Downloading netflix-original-films-imdb-scores.zip to /content\n",
            "  0% 0.00/12.4k [00:00<?, ?B/s]\n",
            "100% 12.4k/12.4k [00:00<00:00, 8.96MB/s]\n",
            "Archive:  netflix-original-films-imdb-scores.zip\n",
            "  inflating: NetflixOriginals.csv    \n"
          ]
        }
      ],
      "source": [
        "!pip install -q kaggle\n",
        "from google.colab import files\n",
        "files.upload()\n",
        "!mkdir ~/.kaggle\n",
        "!cp kaggle.json ~/.kaggle/\n",
        "!chmod 600  ~/.kaggle/kaggle.json\n",
        "!kaggle datasets download luiscorter/netflix-original-films-imdb-scores\n",
        "!unzip netflix-original-films-imdb-scores"
      ]
    },
    {
      "cell_type": "markdown",
      "source": [
        "## Import Libraries"
      ],
      "metadata": {
        "id": "TSZFWygPAH6w"
      }
    },
    {
      "cell_type": "code",
      "source": [
        "import pandas as pd\n",
        "import numpy as np\n",
        "from matplotlib import pyplot as plt\n",
        "from datetime import datetime"
      ],
      "metadata": {
        "id": "a73hTjGHAQA_"
      },
      "execution_count": null,
      "outputs": []
    },
    {
      "cell_type": "markdown",
      "source": [
        "## PROBLEMS"
      ],
      "metadata": {
        "id": "nu93sSzQAVaP"
      }
    },
    {
      "cell_type": "code",
      "source": [
        "nf_data = pd.read_csv('/content/NetflixOriginals.csv',encoding='latin-1')"
      ],
      "metadata": {
        "id": "dUmC6jQ5gMps"
      },
      "execution_count": null,
      "outputs": []
    },
    {
      "cell_type": "markdown",
      "source": [
        "### Problem 1 \n",
        "\n",
        "*   Based on the dataset which languages are used for the long movies, visualize.\n",
        "\n",
        "\n",
        "\n"
      ],
      "metadata": {
        "id": "LVc2qrXwQZjR"
      }
    },
    {
      "cell_type": "code",
      "source": [
        "mean_rtime = nf_data.Runtime.mean()"
      ],
      "metadata": {
        "id": "gHCVdtyCcwYa"
      },
      "execution_count": null,
      "outputs": []
    },
    {
      "cell_type": "code",
      "source": [
        "mean_rtime"
      ],
      "metadata": {
        "colab": {
          "base_uri": "https://localhost:8080/"
        },
        "id": "KwsislnbdJU1",
        "outputId": "1db247f3-6d86-4fe6-b48c-68bf41326b8b"
      },
      "execution_count": null,
      "outputs": [
        {
          "output_type": "execute_result",
          "data": {
            "text/plain": [
              "93.57705479452055"
            ]
          },
          "metadata": {},
          "execution_count": 5
        }
      ]
    },
    {
      "cell_type": "code",
      "source": [
        "idx_list =nf_data.index[nf_data['Runtime']>=(mean_rtime+15)].tolist()"
      ],
      "metadata": {
        "id": "hNIpJ1S7C3IX"
      },
      "execution_count": null,
      "outputs": []
    },
    {
      "cell_type": "code",
      "source": [
        "long_movies_df = pd.DataFrame(columns = ['Runtime','Language'])"
      ],
      "metadata": {
        "id": "XLDb7CylBVQd"
      },
      "execution_count": null,
      "outputs": []
    },
    {
      "cell_type": "code",
      "source": [
        "rtime = []\n",
        "lng = []\n",
        "for idx in idx_list:\n",
        "  rtime.append(nf_data.at[nf_data.index[idx],'Runtime'])\n",
        "  lng.append(nf_data.at[nf_data.index[idx],'Language'])\n",
        "long_movies_df['Runtime'] = rtime\n",
        "long_movies_df['Language'] = lng  "
      ],
      "metadata": {
        "id": "uCOnEpTuDoe_"
      },
      "execution_count": null,
      "outputs": []
    },
    {
      "cell_type": "code",
      "source": [
        "# Data Frame For Problem 1 (Films which runtime is more than 110 min)\n",
        "long_movies_df"
      ],
      "metadata": {
        "id": "TQvWzcFFPjPF"
      },
      "execution_count": null,
      "outputs": []
    },
    {
      "cell_type": "code",
      "source": [
        "unique_lng = long_movies_df['Language'].unique().tolist()\n",
        "n_of_lng = []\n",
        "for language in unique_lng:\n",
        "  n_of_lng.append(len(long_movies_df[long_movies_df['Language'].isin([language])]))"
      ],
      "metadata": {
        "id": "JuzQVDp0C_bG"
      },
      "execution_count": null,
      "outputs": []
    },
    {
      "cell_type": "code",
      "source": [
        "# Pie Chart For Problem 1 (Films which runtime is more than 110 min)\n",
        "fig = plt.figure(figsize =(15, 15))\n",
        "plt.pie(n_of_lng, labels = unique_lng)\n",
        "plt.show"
      ],
      "metadata": {
        "id": "5dytI_5NPZLT"
      },
      "execution_count": null,
      "outputs": []
    },
    {
      "cell_type": "markdown",
      "source": [
        "### Problem 2 \n",
        "\n",
        "\n",
        "*   Find and visualize the IMDB values ​​of the movies shot in the 'Documentary' genre between January 2019 and June 2020.\n",
        "\n",
        "\n",
        "\n",
        "\n",
        "\n"
      ],
      "metadata": {
        "id": "xcsdHCbwk1gO"
      }
    },
    {
      "cell_type": "code",
      "source": [
        "#Setting the timestamp\n",
        "premiereDate = nf_data.copy()\n",
        "premiereDate[\"Premiere\"] = premiereDate[\"Premiere\"].apply(lambda x: \"\".join(x for x in x.replace(\".\",\",\")))\n",
        "premiereDate[\"PremiereDate\"] = premiereDate[\"Premiere\"].apply(lambda x: datetime.strptime(x, \"%B %d, %Y\").date())\n",
        "premiereDate[\"Year\"] = premiereDate[\"Premiere\"].apply(lambda x: \"\".join(x for x in x.replace(\",\",\"\").split()[-1]))\n",
        "\n",
        "premiereDate[\"PremiereDate\"] = pd.to_datetime(premiereDate[\"PremiereDate\"]) \n",
        "premiereDate"
      ],
      "metadata": {
        "id": "E-dpflldk3rH",
        "colab": {
          "base_uri": "https://localhost:8080/",
          "height": 424
        },
        "outputId": "9590d0ec-aed4-4a1f-b581-90c2fa0ee759"
      },
      "execution_count": null,
      "outputs": [
        {
          "output_type": "execute_result",
          "data": {
            "text/plain": [
              "                                           Title                  Genre  \\\n",
              "0                                Enter the Anime            Documentary   \n",
              "1                                    Dark Forces               Thriller   \n",
              "2                                        The App  Science fiction/Drama   \n",
              "3                                 The Open House        Horror thriller   \n",
              "4                                    Kaali Khuhi                Mystery   \n",
              "..                                           ...                    ...   \n",
              "579        Taylor Swift: Reputation Stadium Tour           Concert Film   \n",
              "580  Winter on Fire: Ukraine's Fight for Freedom            Documentary   \n",
              "581                      Springsteen on Broadway           One-man show   \n",
              "582    Emicida: AmarElo - It's All For Yesterday            Documentary   \n",
              "583     David Attenborough: A Life on Our Planet            Documentary   \n",
              "\n",
              "              Premiere  Runtime  IMDB Score                  Language  \\\n",
              "0       August 5, 2019       58         2.5          English/Japanese   \n",
              "1      August 21, 2020       81         2.6                   Spanish   \n",
              "2    December 26, 2019       79         2.6                   Italian   \n",
              "3     January 19, 2018       94         3.2                   English   \n",
              "4     October 30, 2020       90         3.4                     Hindi   \n",
              "..                 ...      ...         ...                       ...   \n",
              "579  December 31, 2018      125         8.4                   English   \n",
              "580    October 9, 2015       91         8.4  English/Ukranian/Russian   \n",
              "581  December 16, 2018      153         8.5                   English   \n",
              "582   December 8, 2020       89         8.6                Portuguese   \n",
              "583    October 4, 2020       83         9.0                   English   \n",
              "\n",
              "    PremiereDate  Year  \n",
              "0     2019-08-05  2019  \n",
              "1     2020-08-21  2020  \n",
              "2     2019-12-26  2019  \n",
              "3     2018-01-19  2018  \n",
              "4     2020-10-30  2020  \n",
              "..           ...   ...  \n",
              "579   2018-12-31  2018  \n",
              "580   2015-10-09  2015  \n",
              "581   2018-12-16  2018  \n",
              "582   2020-12-08  2020  \n",
              "583   2020-10-04  2020  \n",
              "\n",
              "[584 rows x 8 columns]"
            ],
            "text/html": [
              "\n",
              "  <div id=\"df-1bf260c7-6fc4-4165-b82b-5bcb453e1c7c\">\n",
              "    <div class=\"colab-df-container\">\n",
              "      <div>\n",
              "<style scoped>\n",
              "    .dataframe tbody tr th:only-of-type {\n",
              "        vertical-align: middle;\n",
              "    }\n",
              "\n",
              "    .dataframe tbody tr th {\n",
              "        vertical-align: top;\n",
              "    }\n",
              "\n",
              "    .dataframe thead th {\n",
              "        text-align: right;\n",
              "    }\n",
              "</style>\n",
              "<table border=\"1\" class=\"dataframe\">\n",
              "  <thead>\n",
              "    <tr style=\"text-align: right;\">\n",
              "      <th></th>\n",
              "      <th>Title</th>\n",
              "      <th>Genre</th>\n",
              "      <th>Premiere</th>\n",
              "      <th>Runtime</th>\n",
              "      <th>IMDB Score</th>\n",
              "      <th>Language</th>\n",
              "      <th>PremiereDate</th>\n",
              "      <th>Year</th>\n",
              "    </tr>\n",
              "  </thead>\n",
              "  <tbody>\n",
              "    <tr>\n",
              "      <th>0</th>\n",
              "      <td>Enter the Anime</td>\n",
              "      <td>Documentary</td>\n",
              "      <td>August 5, 2019</td>\n",
              "      <td>58</td>\n",
              "      <td>2.5</td>\n",
              "      <td>English/Japanese</td>\n",
              "      <td>2019-08-05</td>\n",
              "      <td>2019</td>\n",
              "    </tr>\n",
              "    <tr>\n",
              "      <th>1</th>\n",
              "      <td>Dark Forces</td>\n",
              "      <td>Thriller</td>\n",
              "      <td>August 21, 2020</td>\n",
              "      <td>81</td>\n",
              "      <td>2.6</td>\n",
              "      <td>Spanish</td>\n",
              "      <td>2020-08-21</td>\n",
              "      <td>2020</td>\n",
              "    </tr>\n",
              "    <tr>\n",
              "      <th>2</th>\n",
              "      <td>The App</td>\n",
              "      <td>Science fiction/Drama</td>\n",
              "      <td>December 26, 2019</td>\n",
              "      <td>79</td>\n",
              "      <td>2.6</td>\n",
              "      <td>Italian</td>\n",
              "      <td>2019-12-26</td>\n",
              "      <td>2019</td>\n",
              "    </tr>\n",
              "    <tr>\n",
              "      <th>3</th>\n",
              "      <td>The Open House</td>\n",
              "      <td>Horror thriller</td>\n",
              "      <td>January 19, 2018</td>\n",
              "      <td>94</td>\n",
              "      <td>3.2</td>\n",
              "      <td>English</td>\n",
              "      <td>2018-01-19</td>\n",
              "      <td>2018</td>\n",
              "    </tr>\n",
              "    <tr>\n",
              "      <th>4</th>\n",
              "      <td>Kaali Khuhi</td>\n",
              "      <td>Mystery</td>\n",
              "      <td>October 30, 2020</td>\n",
              "      <td>90</td>\n",
              "      <td>3.4</td>\n",
              "      <td>Hindi</td>\n",
              "      <td>2020-10-30</td>\n",
              "      <td>2020</td>\n",
              "    </tr>\n",
              "    <tr>\n",
              "      <th>...</th>\n",
              "      <td>...</td>\n",
              "      <td>...</td>\n",
              "      <td>...</td>\n",
              "      <td>...</td>\n",
              "      <td>...</td>\n",
              "      <td>...</td>\n",
              "      <td>...</td>\n",
              "      <td>...</td>\n",
              "    </tr>\n",
              "    <tr>\n",
              "      <th>579</th>\n",
              "      <td>Taylor Swift: Reputation Stadium Tour</td>\n",
              "      <td>Concert Film</td>\n",
              "      <td>December 31, 2018</td>\n",
              "      <td>125</td>\n",
              "      <td>8.4</td>\n",
              "      <td>English</td>\n",
              "      <td>2018-12-31</td>\n",
              "      <td>2018</td>\n",
              "    </tr>\n",
              "    <tr>\n",
              "      <th>580</th>\n",
              "      <td>Winter on Fire: Ukraine's Fight for Freedom</td>\n",
              "      <td>Documentary</td>\n",
              "      <td>October 9, 2015</td>\n",
              "      <td>91</td>\n",
              "      <td>8.4</td>\n",
              "      <td>English/Ukranian/Russian</td>\n",
              "      <td>2015-10-09</td>\n",
              "      <td>2015</td>\n",
              "    </tr>\n",
              "    <tr>\n",
              "      <th>581</th>\n",
              "      <td>Springsteen on Broadway</td>\n",
              "      <td>One-man show</td>\n",
              "      <td>December 16, 2018</td>\n",
              "      <td>153</td>\n",
              "      <td>8.5</td>\n",
              "      <td>English</td>\n",
              "      <td>2018-12-16</td>\n",
              "      <td>2018</td>\n",
              "    </tr>\n",
              "    <tr>\n",
              "      <th>582</th>\n",
              "      <td>Emicida: AmarElo - It's All For Yesterday</td>\n",
              "      <td>Documentary</td>\n",
              "      <td>December 8, 2020</td>\n",
              "      <td>89</td>\n",
              "      <td>8.6</td>\n",
              "      <td>Portuguese</td>\n",
              "      <td>2020-12-08</td>\n",
              "      <td>2020</td>\n",
              "    </tr>\n",
              "    <tr>\n",
              "      <th>583</th>\n",
              "      <td>David Attenborough: A Life on Our Planet</td>\n",
              "      <td>Documentary</td>\n",
              "      <td>October 4, 2020</td>\n",
              "      <td>83</td>\n",
              "      <td>9.0</td>\n",
              "      <td>English</td>\n",
              "      <td>2020-10-04</td>\n",
              "      <td>2020</td>\n",
              "    </tr>\n",
              "  </tbody>\n",
              "</table>\n",
              "<p>584 rows × 8 columns</p>\n",
              "</div>\n",
              "      <button class=\"colab-df-convert\" onclick=\"convertToInteractive('df-1bf260c7-6fc4-4165-b82b-5bcb453e1c7c')\"\n",
              "              title=\"Convert this dataframe to an interactive table.\"\n",
              "              style=\"display:none;\">\n",
              "        \n",
              "  <svg xmlns=\"http://www.w3.org/2000/svg\" height=\"24px\"viewBox=\"0 0 24 24\"\n",
              "       width=\"24px\">\n",
              "    <path d=\"M0 0h24v24H0V0z\" fill=\"none\"/>\n",
              "    <path d=\"M18.56 5.44l.94 2.06.94-2.06 2.06-.94-2.06-.94-.94-2.06-.94 2.06-2.06.94zm-11 1L8.5 8.5l.94-2.06 2.06-.94-2.06-.94L8.5 2.5l-.94 2.06-2.06.94zm10 10l.94 2.06.94-2.06 2.06-.94-2.06-.94-.94-2.06-.94 2.06-2.06.94z\"/><path d=\"M17.41 7.96l-1.37-1.37c-.4-.4-.92-.59-1.43-.59-.52 0-1.04.2-1.43.59L10.3 9.45l-7.72 7.72c-.78.78-.78 2.05 0 2.83L4 21.41c.39.39.9.59 1.41.59.51 0 1.02-.2 1.41-.59l7.78-7.78 2.81-2.81c.8-.78.8-2.07 0-2.86zM5.41 20L4 18.59l7.72-7.72 1.47 1.35L5.41 20z\"/>\n",
              "  </svg>\n",
              "      </button>\n",
              "      \n",
              "  <style>\n",
              "    .colab-df-container {\n",
              "      display:flex;\n",
              "      flex-wrap:wrap;\n",
              "      gap: 12px;\n",
              "    }\n",
              "\n",
              "    .colab-df-convert {\n",
              "      background-color: #E8F0FE;\n",
              "      border: none;\n",
              "      border-radius: 50%;\n",
              "      cursor: pointer;\n",
              "      display: none;\n",
              "      fill: #1967D2;\n",
              "      height: 32px;\n",
              "      padding: 0 0 0 0;\n",
              "      width: 32px;\n",
              "    }\n",
              "\n",
              "    .colab-df-convert:hover {\n",
              "      background-color: #E2EBFA;\n",
              "      box-shadow: 0px 1px 2px rgba(60, 64, 67, 0.3), 0px 1px 3px 1px rgba(60, 64, 67, 0.15);\n",
              "      fill: #174EA6;\n",
              "    }\n",
              "\n",
              "    [theme=dark] .colab-df-convert {\n",
              "      background-color: #3B4455;\n",
              "      fill: #D2E3FC;\n",
              "    }\n",
              "\n",
              "    [theme=dark] .colab-df-convert:hover {\n",
              "      background-color: #434B5C;\n",
              "      box-shadow: 0px 1px 3px 1px rgba(0, 0, 0, 0.15);\n",
              "      filter: drop-shadow(0px 1px 2px rgba(0, 0, 0, 0.3));\n",
              "      fill: #FFFFFF;\n",
              "    }\n",
              "  </style>\n",
              "\n",
              "      <script>\n",
              "        const buttonEl =\n",
              "          document.querySelector('#df-1bf260c7-6fc4-4165-b82b-5bcb453e1c7c button.colab-df-convert');\n",
              "        buttonEl.style.display =\n",
              "          google.colab.kernel.accessAllowed ? 'block' : 'none';\n",
              "\n",
              "        async function convertToInteractive(key) {\n",
              "          const element = document.querySelector('#df-1bf260c7-6fc4-4165-b82b-5bcb453e1c7c');\n",
              "          const dataTable =\n",
              "            await google.colab.kernel.invokeFunction('convertToInteractive',\n",
              "                                                     [key], {});\n",
              "          if (!dataTable) return;\n",
              "\n",
              "          const docLinkHtml = 'Like what you see? Visit the ' +\n",
              "            '<a target=\"_blank\" href=https://colab.research.google.com/notebooks/data_table.ipynb>data table notebook</a>'\n",
              "            + ' to learn more about interactive tables.';\n",
              "          element.innerHTML = '';\n",
              "          dataTable['output_type'] = 'display_data';\n",
              "          await google.colab.output.renderOutput(dataTable, element);\n",
              "          const docLink = document.createElement('div');\n",
              "          docLink.innerHTML = docLinkHtml;\n",
              "          element.appendChild(docLink);\n",
              "        }\n",
              "      </script>\n",
              "    </div>\n",
              "  </div>\n",
              "  "
            ]
          },
          "metadata": {},
          "execution_count": 45
        }
      ]
    },
    {
      "cell_type": "code",
      "source": [
        "premiereDate = premiereDate[(premiereDate.PremiereDate.between('01-01-2019', '30-06-2020')) & (premiereDate.Genre == 'Documentary')]\n",
        "premiereDate"
      ],
      "metadata": {
        "id": "pkh7mJzflRvC"
      },
      "execution_count": null,
      "outputs": []
    },
    {
      "cell_type": "code",
      "source": [
        "fig, ax = plt.subplots(figsize = (15,15))\n",
        "\n",
        "ax.bar(premiereDate.Title, premiereDate.Runtime, color ='rgb',\n",
        "        width = 0.4)\n",
        "plt.xticks(rotation=90)\n",
        "\n",
        "plt.xlabel(\"Title of The Movies\")\n",
        "plt.ylabel(\"Runtimes\")\n",
        "plt.show()"
      ],
      "metadata": {
        "id": "287IpYoIna90"
      },
      "execution_count": null,
      "outputs": []
    },
    {
      "cell_type": "markdown",
      "source": [
        "### Problem 3 \n",
        "\n",
        "\n",
        "*   Which genre has the highest IMDB rating among movies shot in English?\n",
        "\n",
        "\n",
        "\n"
      ],
      "metadata": {
        "id": "H-iMraHhqv7B"
      }
    },
    {
      "cell_type": "code",
      "source": [
        "obj = nf_data.iloc[nf_data[nf_data['Language'] == 'English']['IMDB Score'].idxmax()]\n",
        "print(f\"The movie which the language of it is Engilsh and have the hıghest IMDB score is {obj.get('Title')} and genre of the movie is {obj.get('Genre')} with the {obj.get('IMDB Score')} IMDB score.\")"
      ],
      "metadata": {
        "colab": {
          "base_uri": "https://localhost:8080/"
        },
        "id": "UGIBI0ksq7wP",
        "outputId": "b522f34b-e3be-48f9-a152-0427fe9cfe99"
      },
      "execution_count": null,
      "outputs": [
        {
          "output_type": "stream",
          "name": "stdout",
          "text": [
            "The movie which the language of it is Engilsh and have the hıghest IMDB score is David Attenborough: A Life on Our Planet and genre of the movie is Documentary with the 9.0 IMDB score.\n"
          ]
        }
      ]
    },
    {
      "cell_type": "markdown",
      "source": [
        "### Problem 4\n",
        "\n",
        "\n",
        "*   What is the average 'runtime' of movies shot in 'Hindi'?\n",
        "\n",
        "\n",
        "\n"
      ],
      "metadata": {
        "id": "pPlBgb9gttQ1"
      }
    },
    {
      "cell_type": "code",
      "source": [
        "mean_hindi = nf_data[nf_data['Language'] == 'Hindi']['Runtime'].mean()\n",
        "f_mean_hindi = \"{:.2f}\".format(mean_hindi)\n",
        "\n",
        "print(f\"Average runtime of movies which are shot in Hindi is {f_mean_hindi}.\")"
      ],
      "metadata": {
        "colab": {
          "base_uri": "https://localhost:8080/"
        },
        "id": "8PnRcxTRt0JX",
        "outputId": "11f04640-f5c8-4f96-dca2-edb387511929"
      },
      "execution_count": null,
      "outputs": [
        {
          "output_type": "stream",
          "name": "stdout",
          "text": [
            "Average runtime of movies which are shot in Hindi is 115.79.\n"
          ]
        }
      ]
    },
    {
      "cell_type": "markdown",
      "source": [
        "### Problem 5\n",
        "\n",
        "\n",
        "*   How many categories does the 'Genre' Column have and what are those categories? Express it visually.\n",
        "\n",
        "\n",
        "\n",
        "\n"
      ],
      "metadata": {
        "id": "cXkdfztr1FxZ"
      }
    },
    {
      "cell_type": "code",
      "source": [
        "genre_type_array =nf_data['Genre'].unique()\n",
        "genre_type_list =genre_type_array.tolist()\n",
        "genre_usage_array =nf_data['Genre'].value_counts().values\n",
        "genre_usage_list =genre_usage_array.tolist()"
      ],
      "metadata": {
        "id": "Vbs0JFHK1LJy"
      },
      "execution_count": null,
      "outputs": []
    },
    {
      "cell_type": "code",
      "source": [
        "fig, ax = plt.subplots(figsize = (30,15))\n",
        "\n",
        "ax.bar(genre_type_list, genre_usage_list, color ='rgb',\n",
        "        width = 0.4)\n",
        "plt.xticks(rotation=90)\n",
        "\n",
        "plt.xlabel(\"Title of The Movies\")\n",
        "plt.ylabel(\"Runtimes\")\n",
        "plt.show()"
      ],
      "metadata": {
        "id": "fNBzBF_E4F3R"
      },
      "execution_count": null,
      "outputs": []
    },
    {
      "cell_type": "markdown",
      "source": [
        "### Problem 6\n",
        "\n",
        "*   Find the 3 most used languages ​​in the movies in the data set.\n",
        "\n",
        "\n"
      ],
      "metadata": {
        "id": "I4mkD9zq4dOO"
      }
    },
    {
      "cell_type": "code",
      "source": [
        "language_type_array =nf_data['Language'].unique()\n",
        "language_type_list =language_type_array.tolist()\n",
        "language_usage_array =nf_data['Language'].value_counts().values\n",
        "language_usage_list =language_usage_array.tolist()"
      ],
      "metadata": {
        "id": "ntwUCgoC4pHb"
      },
      "execution_count": null,
      "outputs": []
    },
    {
      "cell_type": "code",
      "source": [
        "lang_df = pd.DataFrame(columns = ['Language', 'Usage'])\n",
        "lang_df['Language'] = language_type_list\n",
        "lang_df['Usage'] = language_usage_list\n",
        "lang_df.sort_values(by=['Usage'], ascending=False,inplace=True)\n",
        "lang_list = lang_df['Language'].head(3).tolist()\n",
        "\n",
        "print(f'1. Most used languages in movies is {lang_list[0]}\\n2. Most used languages in movies is {lang_list[1]}\\n3. Most used languages in movies is {lang_list[2]}\\n')"
      ],
      "metadata": {
        "colab": {
          "base_uri": "https://localhost:8080/"
        },
        "id": "Ltabe7XR41GU",
        "outputId": "1b11e43b-cfd0-43bf-e51d-d1d6a027dffe"
      },
      "execution_count": null,
      "outputs": [
        {
          "output_type": "stream",
          "name": "stdout",
          "text": [
            "1. Most used languages in movies is English/Japanese\n",
            "2. Most used languages in movies is Spanish\n",
            "3. Most used languages in movies is Italian\n",
            "\n"
          ]
        }
      ]
    },
    {
      "cell_type": "markdown",
      "source": [
        "### Problem 7\n",
        "\n",
        "*   Top 10 movies with the highest IMDB rating?\n",
        "\n",
        "\n",
        "\n"
      ],
      "metadata": {
        "id": "y7adxSvlLDXg"
      }
    },
    {
      "cell_type": "code",
      "source": [
        "nf_data.sort_values(by = ['IMDB Score'], ascending=False, inplace=True)\n",
        "top_ten_title = nf_data['Title'].head(10).tolist()\n",
        "top_ten_score = nf_data['IMDB Score'].head(10).tolist()\n",
        "cnt = 1\n",
        "for title in top_ten_list:\n",
        "  print(f'{cnt}.Title: {title} --- IMDB Score: {top_ten_score[cnt-1]}')\n",
        "  cnt += 1"
      ],
      "metadata": {
        "id": "BqEcvGrKLLL3",
        "colab": {
          "base_uri": "https://localhost:8080/"
        },
        "outputId": "8ff62626-02b8-44b0-a454-6b7effb5a891"
      },
      "execution_count": null,
      "outputs": [
        {
          "output_type": "stream",
          "name": "stdout",
          "text": [
            "1.Title: David Attenborough: A Life on Our Planet --- IMDB Score: 9.0\n",
            "2.Title: Emicida: AmarElo - It's All For Yesterday --- IMDB Score: 8.6\n",
            "3.Title: Springsteen on Broadway --- IMDB Score: 8.5\n",
            "4.Title: Winter on Fire: Ukraine's Fight for Freedom --- IMDB Score: 8.4\n",
            "5.Title: Taylor Swift: Reputation Stadium Tour --- IMDB Score: 8.4\n",
            "6.Title: Ben Platt: Live from Radio City Music Hall --- IMDB Score: 8.4\n",
            "7.Title: Dancing with the Birds --- IMDB Score: 8.3\n",
            "8.Title: Cuba and the Cameraman  --- IMDB Score: 8.3\n",
            "9.Title: Disclosure: Trans Lives on Screen --- IMDB Score: 8.2\n",
            "10.Title: Klaus --- IMDB Score: 8.2\n"
          ]
        }
      ]
    },
    {
      "cell_type": "markdown",
      "source": [
        "### Problem 8\n",
        "*   What is the correlation between IMDB score and 'Runtime'? Examine and visualize.\n",
        "\n",
        "\n",
        "  Correlation coefficient r meanings: \n",
        "\n",
        "  ![resim_2022-07-23_194328017.png](data:image/png;base64,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)\n",
        "\n",
        "Resource : https://sphweb.bumc.bu.edu/otlt/MPH-Modules/PH717-QuantCore/PH717-Module9-Correlation-Regression/PH717-Module9-Correlation-Regression4.html#:~:text=The%20sample%20correlation%20coefficient%20(r,for%20accumulated%20saving%20over%20time."
      ],
      "metadata": {
        "id": "6FXtWXin5VhK"
      }
    },
    {
      "cell_type": "code",
      "source": [
        "nf_data.reset_index(drop=True)\n",
        "correlation = nf_data.corr()\n",
        "print(f'Correlation between Runtime and IMDB Score is {correlation[\"Runtime\"][1]} so it means either there is no association between these two value or they have very weak association\\n')\n",
        "print(f'Correlation between IMDB Score and Runtime is {correlation[\"IMDB Score\"][0]} so it means either there is no association between these two value or they have very weak association\\n') \n",
        "      "
      ],
      "metadata": {
        "colab": {
          "base_uri": "https://localhost:8080/"
        },
        "id": "2pAb6GyJ5lOc",
        "outputId": "ef03d964-a2e2-4389-bfcf-54dd96500e82"
      },
      "execution_count": null,
      "outputs": [
        {
          "output_type": "stream",
          "name": "stdout",
          "text": [
            "Correlation between Runtime and IMDB Score is -0.040896291420788745 so it means either there is no association between these two value or they have very weak association\n",
            "\n",
            "Correlation between IMDB Score and Runtime is -0.040896291420788745 so it means either there is no association between these two value or they have very weak association\n",
            "\n"
          ]
        }
      ]
    },
    {
      "cell_type": "markdown",
      "source": [
        "### Problem 9\n",
        "\n",
        "*   Which are the top 10 'Genre' with the highest IMDB Score? Visualize it.\n",
        "\n",
        "\n",
        "\n"
      ],
      "metadata": {
        "id": "GvmNcjUUApPT"
      }
    },
    {
      "cell_type": "code",
      "source": [
        "genre_group = nf_data.groupby(\"Genre\").agg({\"IMDB Score\": \"max\"}).sort_values(['IMDB Score'], ascending=False).reset_index()\n",
        "top_ten_genre = genre_group.head(10)\n",
        "top_ten_genre"
      ],
      "metadata": {
        "id": "LMFzOTc7BCke",
        "colab": {
          "base_uri": "https://localhost:8080/",
          "height": 363
        },
        "outputId": "1dcf07c1-aa72-442a-a682-fb657ea16dd8"
      },
      "execution_count": null,
      "outputs": [
        {
          "output_type": "execute_result",
          "data": {
            "text/plain": [
              "                                  Genre  IMDB Score\n",
              "0                           Documentary         9.0\n",
              "1                          One-man show         8.5\n",
              "2                          Concert Film         8.4\n",
              "3  Animation/Christmas/Comedy/Adventure         8.2\n",
              "4                                 Drama         7.9\n",
              "5                     Animation / Short         7.8\n",
              "6                           Crime drama         7.8\n",
              "7                       Musical / Short         7.7\n",
              "8                             Making-of         7.7\n",
              "9                             War drama         7.7"
            ],
            "text/html": [
              "\n",
              "  <div id=\"df-f9b3e359-1fef-4ac8-9fbe-efe5d518c897\">\n",
              "    <div class=\"colab-df-container\">\n",
              "      <div>\n",
              "<style scoped>\n",
              "    .dataframe tbody tr th:only-of-type {\n",
              "        vertical-align: middle;\n",
              "    }\n",
              "\n",
              "    .dataframe tbody tr th {\n",
              "        vertical-align: top;\n",
              "    }\n",
              "\n",
              "    .dataframe thead th {\n",
              "        text-align: right;\n",
              "    }\n",
              "</style>\n",
              "<table border=\"1\" class=\"dataframe\">\n",
              "  <thead>\n",
              "    <tr style=\"text-align: right;\">\n",
              "      <th></th>\n",
              "      <th>Genre</th>\n",
              "      <th>IMDB Score</th>\n",
              "    </tr>\n",
              "  </thead>\n",
              "  <tbody>\n",
              "    <tr>\n",
              "      <th>0</th>\n",
              "      <td>Documentary</td>\n",
              "      <td>9.0</td>\n",
              "    </tr>\n",
              "    <tr>\n",
              "      <th>1</th>\n",
              "      <td>One-man show</td>\n",
              "      <td>8.5</td>\n",
              "    </tr>\n",
              "    <tr>\n",
              "      <th>2</th>\n",
              "      <td>Concert Film</td>\n",
              "      <td>8.4</td>\n",
              "    </tr>\n",
              "    <tr>\n",
              "      <th>3</th>\n",
              "      <td>Animation/Christmas/Comedy/Adventure</td>\n",
              "      <td>8.2</td>\n",
              "    </tr>\n",
              "    <tr>\n",
              "      <th>4</th>\n",
              "      <td>Drama</td>\n",
              "      <td>7.9</td>\n",
              "    </tr>\n",
              "    <tr>\n",
              "      <th>5</th>\n",
              "      <td>Animation / Short</td>\n",
              "      <td>7.8</td>\n",
              "    </tr>\n",
              "    <tr>\n",
              "      <th>6</th>\n",
              "      <td>Crime drama</td>\n",
              "      <td>7.8</td>\n",
              "    </tr>\n",
              "    <tr>\n",
              "      <th>7</th>\n",
              "      <td>Musical / Short</td>\n",
              "      <td>7.7</td>\n",
              "    </tr>\n",
              "    <tr>\n",
              "      <th>8</th>\n",
              "      <td>Making-of</td>\n",
              "      <td>7.7</td>\n",
              "    </tr>\n",
              "    <tr>\n",
              "      <th>9</th>\n",
              "      <td>War drama</td>\n",
              "      <td>7.7</td>\n",
              "    </tr>\n",
              "  </tbody>\n",
              "</table>\n",
              "</div>\n",
              "      <button class=\"colab-df-convert\" onclick=\"convertToInteractive('df-f9b3e359-1fef-4ac8-9fbe-efe5d518c897')\"\n",
              "              title=\"Convert this dataframe to an interactive table.\"\n",
              "              style=\"display:none;\">\n",
              "        \n",
              "  <svg xmlns=\"http://www.w3.org/2000/svg\" height=\"24px\"viewBox=\"0 0 24 24\"\n",
              "       width=\"24px\">\n",
              "    <path d=\"M0 0h24v24H0V0z\" fill=\"none\"/>\n",
              "    <path d=\"M18.56 5.44l.94 2.06.94-2.06 2.06-.94-2.06-.94-.94-2.06-.94 2.06-2.06.94zm-11 1L8.5 8.5l.94-2.06 2.06-.94-2.06-.94L8.5 2.5l-.94 2.06-2.06.94zm10 10l.94 2.06.94-2.06 2.06-.94-2.06-.94-.94-2.06-.94 2.06-2.06.94z\"/><path d=\"M17.41 7.96l-1.37-1.37c-.4-.4-.92-.59-1.43-.59-.52 0-1.04.2-1.43.59L10.3 9.45l-7.72 7.72c-.78.78-.78 2.05 0 2.83L4 21.41c.39.39.9.59 1.41.59.51 0 1.02-.2 1.41-.59l7.78-7.78 2.81-2.81c.8-.78.8-2.07 0-2.86zM5.41 20L4 18.59l7.72-7.72 1.47 1.35L5.41 20z\"/>\n",
              "  </svg>\n",
              "      </button>\n",
              "      \n",
              "  <style>\n",
              "    .colab-df-container {\n",
              "      display:flex;\n",
              "      flex-wrap:wrap;\n",
              "      gap: 12px;\n",
              "    }\n",
              "\n",
              "    .colab-df-convert {\n",
              "      background-color: #E8F0FE;\n",
              "      border: none;\n",
              "      border-radius: 50%;\n",
              "      cursor: pointer;\n",
              "      display: none;\n",
              "      fill: #1967D2;\n",
              "      height: 32px;\n",
              "      padding: 0 0 0 0;\n",
              "      width: 32px;\n",
              "    }\n",
              "\n",
              "    .colab-df-convert:hover {\n",
              "      background-color: #E2EBFA;\n",
              "      box-shadow: 0px 1px 2px rgba(60, 64, 67, 0.3), 0px 1px 3px 1px rgba(60, 64, 67, 0.15);\n",
              "      fill: #174EA6;\n",
              "    }\n",
              "\n",
              "    [theme=dark] .colab-df-convert {\n",
              "      background-color: #3B4455;\n",
              "      fill: #D2E3FC;\n",
              "    }\n",
              "\n",
              "    [theme=dark] .colab-df-convert:hover {\n",
              "      background-color: #434B5C;\n",
              "      box-shadow: 0px 1px 3px 1px rgba(0, 0, 0, 0.15);\n",
              "      filter: drop-shadow(0px 1px 2px rgba(0, 0, 0, 0.3));\n",
              "      fill: #FFFFFF;\n",
              "    }\n",
              "  </style>\n",
              "\n",
              "      <script>\n",
              "        const buttonEl =\n",
              "          document.querySelector('#df-f9b3e359-1fef-4ac8-9fbe-efe5d518c897 button.colab-df-convert');\n",
              "        buttonEl.style.display =\n",
              "          google.colab.kernel.accessAllowed ? 'block' : 'none';\n",
              "\n",
              "        async function convertToInteractive(key) {\n",
              "          const element = document.querySelector('#df-f9b3e359-1fef-4ac8-9fbe-efe5d518c897');\n",
              "          const dataTable =\n",
              "            await google.colab.kernel.invokeFunction('convertToInteractive',\n",
              "                                                     [key], {});\n",
              "          if (!dataTable) return;\n",
              "\n",
              "          const docLinkHtml = 'Like what you see? Visit the ' +\n",
              "            '<a target=\"_blank\" href=https://colab.research.google.com/notebooks/data_table.ipynb>data table notebook</a>'\n",
              "            + ' to learn more about interactive tables.';\n",
              "          element.innerHTML = '';\n",
              "          dataTable['output_type'] = 'display_data';\n",
              "          await google.colab.output.renderOutput(dataTable, element);\n",
              "          const docLink = document.createElement('div');\n",
              "          docLink.innerHTML = docLinkHtml;\n",
              "          element.appendChild(docLink);\n",
              "        }\n",
              "      </script>\n",
              "    </div>\n",
              "  </div>\n",
              "  "
            ]
          },
          "metadata": {},
          "execution_count": 22
        }
      ]
    },
    {
      "cell_type": "code",
      "source": [
        "fig, ax = plt.subplots(figsize = (15,10))\n",
        "\n",
        "ax.bar(top_ten_genre['Genre'], top_ten_genre['IMDB Score'], color ='rgb',\n",
        "        width = 0.2)\n",
        "plt.xticks(rotation=90, fontsize=20)\n",
        "plt.yticks(fontsize=20)\n",
        "\n",
        "ax.set_xlabel('Genre', fontsize=25)\n",
        "ax.set_ylabel('IMDB Scores', fontsize=25)\n",
        "\n",
        "plt.show()"
      ],
      "metadata": {
        "colab": {
          "base_uri": "https://localhost:8080/",
          "height": 1000
        },
        "id": "a5eRwYLdvFr9",
        "outputId": "726459b3-958e-45c3-d72c-c97113ebfc51"
      },
      "execution_count": null,
      "outputs": [
        {
          "output_type": "stream",
          "name": "stderr",
          "text": [
            "/usr/local/lib/python3.7/dist-packages/ipykernel_launcher.py:4: MatplotlibDeprecationWarning: Using a string of single character colors as a color sequence is deprecated. Use an explicit list instead.\n",
            "  after removing the cwd from sys.path.\n"
          ]
        },
        {
          "output_type": "display_data",
          "data": {
            "text/plain": [
              "<Figure size 1080x720 with 1 Axes>"
            ],
            "image/png": "[encoded data removed]"
          },
          "metadata": {
            "needs_background": "light"
          }
        }
      ]
    },
    {
      "cell_type": "markdown",
      "source": [
        "### Problem 10\n",
        "\n",
        "\n",
        "*   What are the top 10 movies with the highest 'runtime'? Visualize it.\n",
        "\n"
      ],
      "metadata": {
        "id": "EZ48kKuox97N"
      }
    },
    {
      "cell_type": "code",
      "source": [
        "runtime_sort_df = nf_data.sort_values(by = 'Runtime', ascending=False).reset_index()\n",
        "runtime_sort_df"
      ],
      "metadata": {
        "colab": {
          "base_uri": "https://localhost:8080/",
          "height": 424
        },
        "id": "E40DGg2nyMuN",
        "outputId": "493f5a58-009e-422c-d251-4a61f07b9567"
      },
      "execution_count": null,
      "outputs": [
        {
          "output_type": "execute_result",
          "data": {
            "text/plain": [
              "     index                                              Title  \\\n",
              "0      561                                       The Irishman   \n",
              "1      328                                        Da 5 Bloods   \n",
              "2      581                            Springsteen on Broadway   \n",
              "3      247                                           Citation   \n",
              "4      284                                 The Forest of Love   \n",
              "..     ...                                                ...   \n",
              "579    498                                              Zion    \n",
              "580     66  American Factory: A Conversation with the Obamas    \n",
              "581    325                                            Canvas    \n",
              "582    417                                   Cops and Robbers   \n",
              "583     40                                        Sol Levante   \n",
              "\n",
              "                     Genre           Premiere  Runtime  IMDB Score  Language  \n",
              "0              Crime drama  November 27, 2019      209         7.8   English  \n",
              "1                War drama      June 12, 2020      155         6.5   English  \n",
              "2             One-man show  December 16, 2018      153         8.5   English  \n",
              "3                    Drama   November 6, 2020      151         6.2   English  \n",
              "4                    Drama   October 11, 2019      151         6.3  Japanese  \n",
              "..                     ...                ...      ...         ...       ...  \n",
              "579            Documentary    August 10, 2018       11         7.2   English  \n",
              "580  Aftershow / Interview    August 21, 2019       10         5.2   English  \n",
              "581      Animation / Short  December 11, 2020        9         6.5   English  \n",
              "582      Animation / Short  December 28, 2020        7         6.9   English  \n",
              "583          Anime / Short      April 2, 2020        4         4.7   English  \n",
              "\n",
              "[584 rows x 7 columns]"
            ],
            "text/html": [
              "\n",
              "  <div id=\"df-39221c33-e862-4962-bb52-45edd4be7dab\">\n",
              "    <div class=\"colab-df-container\">\n",
              "      <div>\n",
              "<style scoped>\n",
              "    .dataframe tbody tr th:only-of-type {\n",
              "        vertical-align: middle;\n",
              "    }\n",
              "\n",
              "    .dataframe tbody tr th {\n",
              "        vertical-align: top;\n",
              "    }\n",
              "\n",
              "    .dataframe thead th {\n",
              "        text-align: right;\n",
              "    }\n",
              "</style>\n",
              "<table border=\"1\" class=\"dataframe\">\n",
              "  <thead>\n",
              "    <tr style=\"text-align: right;\">\n",
              "      <th></th>\n",
              "      <th>index</th>\n",
              "      <th>Title</th>\n",
              "      <th>Genre</th>\n",
              "      <th>Premiere</th>\n",
              "      <th>Runtime</th>\n",
              "      <th>IMDB Score</th>\n",
              "      <th>Language</th>\n",
              "    </tr>\n",
              "  </thead>\n",
              "  <tbody>\n",
              "    <tr>\n",
              "      <th>0</th>\n",
              "      <td>561</td>\n",
              "      <td>The Irishman</td>\n",
              "      <td>Crime drama</td>\n",
              "      <td>November 27, 2019</td>\n",
              "      <td>209</td>\n",
              "      <td>7.8</td>\n",
              "      <td>English</td>\n",
              "    </tr>\n",
              "    <tr>\n",
              "      <th>1</th>\n",
              "      <td>328</td>\n",
              "      <td>Da 5 Bloods</td>\n",
              "      <td>War drama</td>\n",
              "      <td>June 12, 2020</td>\n",
              "      <td>155</td>\n",
              "      <td>6.5</td>\n",
              "      <td>English</td>\n",
              "    </tr>\n",
              "    <tr>\n",
              "      <th>2</th>\n",
              "      <td>581</td>\n",
              "      <td>Springsteen on Broadway</td>\n",
              "      <td>One-man show</td>\n",
              "      <td>December 16, 2018</td>\n",
              "      <td>153</td>\n",
              "      <td>8.5</td>\n",
              "      <td>English</td>\n",
              "    </tr>\n",
              "    <tr>\n",
              "      <th>3</th>\n",
              "      <td>247</td>\n",
              "      <td>Citation</td>\n",
              "      <td>Drama</td>\n",
              "      <td>November 6, 2020</td>\n",
              "      <td>151</td>\n",
              "      <td>6.2</td>\n",
              "      <td>English</td>\n",
              "    </tr>\n",
              "    <tr>\n",
              "      <th>4</th>\n",
              "      <td>284</td>\n",
              "      <td>The Forest of Love</td>\n",
              "      <td>Drama</td>\n",
              "      <td>October 11, 2019</td>\n",
              "      <td>151</td>\n",
              "      <td>6.3</td>\n",
              "      <td>Japanese</td>\n",
              "    </tr>\n",
              "    <tr>\n",
              "      <th>...</th>\n",
              "      <td>...</td>\n",
              "      <td>...</td>\n",
              "      <td>...</td>\n",
              "      <td>...</td>\n",
              "      <td>...</td>\n",
              "      <td>...</td>\n",
              "      <td>...</td>\n",
              "    </tr>\n",
              "    <tr>\n",
              "      <th>579</th>\n",
              "      <td>498</td>\n",
              "      <td>Zion</td>\n",
              "      <td>Documentary</td>\n",
              "      <td>August 10, 2018</td>\n",
              "      <td>11</td>\n",
              "      <td>7.2</td>\n",
              "      <td>English</td>\n",
              "    </tr>\n",
              "    <tr>\n",
              "      <th>580</th>\n",
              "      <td>66</td>\n",
              "      <td>American Factory: A Conversation with the Obamas</td>\n",
              "      <td>Aftershow / Interview</td>\n",
              "      <td>August 21, 2019</td>\n",
              "      <td>10</td>\n",
              "      <td>5.2</td>\n",
              "      <td>English</td>\n",
              "    </tr>\n",
              "    <tr>\n",
              "      <th>581</th>\n",
              "      <td>325</td>\n",
              "      <td>Canvas</td>\n",
              "      <td>Animation / Short</td>\n",
              "      <td>December 11, 2020</td>\n",
              "      <td>9</td>\n",
              "      <td>6.5</td>\n",
              "      <td>English</td>\n",
              "    </tr>\n",
              "    <tr>\n",
              "      <th>582</th>\n",
              "      <td>417</td>\n",
              "      <td>Cops and Robbers</td>\n",
              "      <td>Animation / Short</td>\n",
              "      <td>December 28, 2020</td>\n",
              "      <td>7</td>\n",
              "      <td>6.9</td>\n",
              "      <td>English</td>\n",
              "    </tr>\n",
              "    <tr>\n",
              "      <th>583</th>\n",
              "      <td>40</td>\n",
              "      <td>Sol Levante</td>\n",
              "      <td>Anime / Short</td>\n",
              "      <td>April 2, 2020</td>\n",
              "      <td>4</td>\n",
              "      <td>4.7</td>\n",
              "      <td>English</td>\n",
              "    </tr>\n",
              "  </tbody>\n",
              "</table>\n",
              "<p>584 rows × 7 columns</p>\n",
              "</div>\n",
              "      <button class=\"colab-df-convert\" onclick=\"convertToInteractive('df-39221c33-e862-4962-bb52-45edd4be7dab')\"\n",
              "              title=\"Convert this dataframe to an interactive table.\"\n",
              "              style=\"display:none;\">\n",
              "        \n",
              "  <svg xmlns=\"http://www.w3.org/2000/svg\" height=\"24px\"viewBox=\"0 0 24 24\"\n",
              "       width=\"24px\">\n",
              "    <path d=\"M0 0h24v24H0V0z\" fill=\"none\"/>\n",
              "    <path d=\"M18.56 5.44l.94 2.06.94-2.06 2.06-.94-2.06-.94-.94-2.06-.94 2.06-2.06.94zm-11 1L8.5 8.5l.94-2.06 2.06-.94-2.06-.94L8.5 2.5l-.94 2.06-2.06.94zm10 10l.94 2.06.94-2.06 2.06-.94-2.06-.94-.94-2.06-.94 2.06-2.06.94z\"/><path d=\"M17.41 7.96l-1.37-1.37c-.4-.4-.92-.59-1.43-.59-.52 0-1.04.2-1.43.59L10.3 9.45l-7.72 7.72c-.78.78-.78 2.05 0 2.83L4 21.41c.39.39.9.59 1.41.59.51 0 1.02-.2 1.41-.59l7.78-7.78 2.81-2.81c.8-.78.8-2.07 0-2.86zM5.41 20L4 18.59l7.72-7.72 1.47 1.35L5.41 20z\"/>\n",
              "  </svg>\n",
              "      </button>\n",
              "      \n",
              "  <style>\n",
              "    .colab-df-container {\n",
              "      display:flex;\n",
              "      flex-wrap:wrap;\n",
              "      gap: 12px;\n",
              "    }\n",
              "\n",
              "    .colab-df-convert {\n",
              "      background-color: #E8F0FE;\n",
              "      border: none;\n",
              "      border-radius: 50%;\n",
              "      cursor: pointer;\n",
              "      display: none;\n",
              "      fill: #1967D2;\n",
              "      height: 32px;\n",
              "      padding: 0 0 0 0;\n",
              "      width: 32px;\n",
              "    }\n",
              "\n",
              "    .colab-df-convert:hover {\n",
              "      background-color: #E2EBFA;\n",
              "      box-shadow: 0px 1px 2px rgba(60, 64, 67, 0.3), 0px 1px 3px 1px rgba(60, 64, 67, 0.15);\n",
              "      fill: #174EA6;\n",
              "    }\n",
              "\n",
              "    [theme=dark] .colab-df-convert {\n",
              "      background-color: #3B4455;\n",
              "      fill: #D2E3FC;\n",
              "    }\n",
              "\n",
              "    [theme=dark] .colab-df-convert:hover {\n",
              "      background-color: #434B5C;\n",
              "      box-shadow: 0px 1px 3px 1px rgba(0, 0, 0, 0.15);\n",
              "      filter: drop-shadow(0px 1px 2px rgba(0, 0, 0, 0.3));\n",
              "      fill: #FFFFFF;\n",
              "    }\n",
              "  </style>\n",
              "\n",
              "      <script>\n",
              "        const buttonEl =\n",
              "          document.querySelector('#df-39221c33-e862-4962-bb52-45edd4be7dab button.colab-df-convert');\n",
              "        buttonEl.style.display =\n",
              "          google.colab.kernel.accessAllowed ? 'block' : 'none';\n",
              "\n",
              "        async function convertToInteractive(key) {\n",
              "          const element = document.querySelector('#df-39221c33-e862-4962-bb52-45edd4be7dab');\n",
              "          const dataTable =\n",
              "            await google.colab.kernel.invokeFunction('convertToInteractive',\n",
              "                                                     [key], {});\n",
              "          if (!dataTable) return;\n",
              "\n",
              "          const docLinkHtml = 'Like what you see? Visit the ' +\n",
              "            '<a target=\"_blank\" href=https://colab.research.google.com/notebooks/data_table.ipynb>data table notebook</a>'\n",
              "            + ' to learn more about interactive tables.';\n",
              "          element.innerHTML = '';\n",
              "          dataTable['output_type'] = 'display_data';\n",
              "          await google.colab.output.renderOutput(dataTable, element);\n",
              "          const docLink = document.createElement('div');\n",
              "          docLink.innerHTML = docLinkHtml;\n",
              "          element.appendChild(docLink);\n",
              "        }\n",
              "      </script>\n",
              "    </div>\n",
              "  </div>\n",
              "  "
            ]
          },
          "metadata": {},
          "execution_count": 39
        }
      ]
    },
    {
      "cell_type": "code",
      "source": [
        "fig, ax = plt.subplots(figsize = (15,10))\n",
        "ax.bar(runtime_sort_df['Title'].head(10), runtime_sort_df['Runtime'].head(10), color ='rgb',\n",
        "        width = 0.2)\n",
        "plt.xticks(rotation=90, fontsize=20)\n",
        "plt.yticks(fontsize=20)\n",
        "\n",
        "ax.set_xlabel('Genre', fontsize=25)\n",
        "ax.set_ylabel('IMDB Scores', fontsize=25)\n",
        "\n",
        "plt.show()"
      ],
      "metadata": {
        "colab": {
          "base_uri": "https://localhost:8080/",
          "height": 981
        },
        "id": "obi2GGSdyePv",
        "outputId": "e958c9b6-b5f3-4f72-bef4-8d477d952a52"
      },
      "execution_count": null,
      "outputs": [
        {
          "output_type": "stream",
          "name": "stderr",
          "text": [
            "/usr/local/lib/python3.7/dist-packages/ipykernel_launcher.py:3: MatplotlibDeprecationWarning: Using a string of single character colors as a color sequence is deprecated. Use an explicit list instead.\n",
            "  This is separate from the ipykernel package so we can avoid doing imports until\n"
          ]
        },
        {
          "output_type": "display_data",
          "data": {
            "text/plain": [
              "<Figure size 1080x720 with 1 Axes>"
            ],
            "image/png": "[encoded data removed]"
          },
          "metadata": {
            "needs_background": "light"
          }
        }
      ]
    },
    {
      "cell_type": "markdown",
      "source": [
        "### Problem 11\n",
        "\n",
        "\n",
        "*   In which year was the most movies released? Visualize it.\n"
      ],
      "metadata": {
        "id": "sjRocheSy0rc"
      }
    },
    {
      "cell_type": "code",
      "source": [
        "most_movie_year = premiereDate['Year'].value_counts().idxmax()\n",
        "most_movie_year_count = premiereDate['Year'].value_counts().max()\n",
        "\n",
        "print(f'Most movie released on {most_movie_year} and number of released movies is {most_movie_year_count}')"
      ],
      "metadata": {
        "colab": {
          "base_uri": "https://localhost:8080/"
        },
        "id": "XCaazXLOy6Im",
        "outputId": "1f5b2c0d-37f9-47c1-d4c0-2210a796177a"
      },
      "execution_count": null,
      "outputs": [
        {
          "output_type": "stream",
          "name": "stdout",
          "text": [
            "Most movie released on 2020 and number of released movies is 183\n"
          ]
        }
      ]
    },
    {
      "cell_type": "markdown",
      "source": [
        "### Problem 12\n",
        "\n",
        "\n",
        "\n",
        "*   \n",
        "Which language movies have the lowest average IMBD ratings? Visualize it.\n",
        "\n",
        "\n",
        "\n"
      ],
      "metadata": {
        "id": "qabiUUEI0vHg"
      }
    },
    {
      "cell_type": "code",
      "source": [
        "language_group = nf_data.groupby(\"Language\").agg({\"IMDB Score\": \"mean\"}).sort_values(['IMDB Score'], ascending=True).reset_index()\n",
        "language_group_first_ten = language_group.head(10)"
      ],
      "metadata": {
        "id": "I9uiPxxT05DK"
      },
      "execution_count": null,
      "outputs": []
    },
    {
      "cell_type": "code",
      "source": [
        "fig, ax = plt.subplots(figsize = (15,10))\n",
        "\n",
        "ax.bar(language_group_first_ten['Language'], language_group_first_ten['IMDB Score'], color ='rgb',\n",
        "        width = 0.2)\n",
        "plt.xticks(rotation=90, fontsize=20)\n",
        "plt.yticks(fontsize=20)\n",
        "\n",
        "ax.set_xlabel('Genre', fontsize=25)\n",
        "ax.set_ylabel('IMDB Scores', fontsize=25)\n",
        "\n",
        "plt.show()"
      ],
      "metadata": {
        "colab": {
          "base_uri": "https://localhost:8080/",
          "height": 815
        },
        "id": "ZlldJqZA1Ta0",
        "outputId": "04f7e15c-1259-4363-dd6e-a13406e82dde"
      },
      "execution_count": null,
      "outputs": [
        {
          "output_type": "stream",
          "name": "stderr",
          "text": [
            "/usr/local/lib/python3.7/dist-packages/ipykernel_launcher.py:4: MatplotlibDeprecationWarning: Using a string of single character colors as a color sequence is deprecated. Use an explicit list instead.\n",
            "  after removing the cwd from sys.path.\n"
          ]
        },
        {
          "output_type": "display_data",
          "data": {
            "text/plain": [
              "<Figure size 1080x720 with 1 Axes>"
            ],
            "image/png": "[encoded data removed]"
          },
          "metadata": {
            "needs_background": "light"
          }
        }
      ]
    },
    {
      "cell_type": "markdown",
      "source": [
        "### Problem 13\n",
        "\n",
        "\n",
        "*   Which year has the greatest total runtime?\n"
      ],
      "metadata": {
        "id": "gXQ-mA_I1hrT"
      }
    },
    {
      "cell_type": "code",
      "source": [
        "total_runtime_premiere = premiereDate[[\"Runtime\",\"Year\"]].groupby(\"Year\").sum().sort_values(by='Runtime',ascending=False).reset_index()\n",
        "total_runtime_premiere_year = total_runtime_premiere['Year'][0]\n",
        "total_runtime_premiere_runtime = total_runtime_premiere['Runtime'][0]\n",
        "\n",
        "print(f'Greatest runtime year is {total_runtime_premiere_year} and total runtime is {total_runtime_premiere_runtime}')"
      ],
      "metadata": {
        "colab": {
          "base_uri": "https://localhost:8080/"
        },
        "id": "GKI483J21wf7",
        "outputId": "3a4c14e0-1a75-42bf-8484-d57e106b4b88"
      },
      "execution_count": null,
      "outputs": [
        {
          "output_type": "stream",
          "name": "stdout",
          "text": [
            "Greatest runtime year is 2020 and total runtime is 17384\n"
          ]
        }
      ]
    },
    {
      "cell_type": "markdown",
      "source": [
        "\n",
        "### Problem 14\n",
        "\n",
        "*   \n",
        "What is the \"Genre\" where each language is used the most?\n"
      ],
      "metadata": {
        "id": "Xv8Ec0Iu3Nnu"
      }
    },
    {
      "cell_type": "code",
      "source": [
        "genre_language_df = nf_data.groupby([\"Language\"])[\"Genre\"].value_counts().groupby(level='Language').head(1).sort_values(ascending=False)\n",
        "genre_language_df\n"
      ],
      "metadata": {
        "colab": {
          "base_uri": "https://localhost:8080/"
        },
        "id": "FR8c974j7-tq",
        "outputId": "84a8794f-0584-4b0f-97db-1b72fc6b496f"
      },
      "execution_count": 81,
      "outputs": [
        {
          "output_type": "execute_result",
          "data": {
            "text/plain": [
              "pandas.core.series.Series"
            ]
          },
          "metadata": {},
          "execution_count": 81
        }
      ]
    },
    {
      "cell_type": "markdown",
      "source": [
        "### Problem 15\n",
        "\n",
        "\n",
        "*   Is there any outlier data in the data set? Please explain.\n",
        "\n"
      ],
      "metadata": {
        "id": "UMmLLvbz9CUZ"
      }
    },
    {
      "cell_type": "code",
      "source": [
        "fig, (ax1, ax2, ax3, ax4) = plt.subplots(nrows=1, ncols=4, figsize = (15,15))\n",
        "\n",
        "ax1.violinplot(nf_data.Runtime, showextrema= True)\n",
        "ax1.set_title('Runtime')\n",
        "ax2.violinplot(nf_data['IMDB Score'], showextrema= True)\n",
        "ax2.set_title('IMDB Score')\n",
        "ax3.boxplot(nf_data.Runtime)\n",
        "ax1.set_title('Runtime')\n",
        "ax4.boxplot(nf_data['IMDB Score'])\n",
        "ax2.set_title('IMDB Score')"
      ],
      "metadata": {
        "colab": {
          "base_uri": "https://localhost:8080/",
          "height": 896
        },
        "id": "3coYazKe9qKb",
        "outputId": "18ae5cd3-b6c9-40cc-e0e9-61cf62efef59"
      },
      "execution_count": 88,
      "outputs": [
        {
          "output_type": "execute_result",
          "data": {
            "text/plain": [
              "Text(0.5, 1.0, 'IMDB Score')"
            ]
          },
          "metadata": {},
          "execution_count": 88
        },
        {
          "output_type": "display_data",
          "data": {
            "text/plain": [
              "<Figure size 1080x1080 with 4 Axes>"
            ],
            "image/png": "[encoded data removed]"
          },
          "metadata": {
            "needs_background": "light"
          }
        }
      ]
    },
    {
      "cell_type": "markdown",
      "source": [
        "From the graphics above we can see the distrubition of values clearly on violin plot and the outliers on boxplot for runtime and IMDB score on the data."
      ],
      "metadata": {
        "id": "W3Xa3PuA-gwh"
      }
    }
  ]
}